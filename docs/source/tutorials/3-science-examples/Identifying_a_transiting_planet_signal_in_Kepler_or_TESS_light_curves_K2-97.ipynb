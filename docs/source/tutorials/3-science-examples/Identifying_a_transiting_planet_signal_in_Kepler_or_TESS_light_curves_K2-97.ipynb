{
  "cells": [
    {
      "cell_type": "markdown",
      "metadata": {
        "id": "bYYGJvqP-Csl"
      },
      "source": [
        "# Identifying transiting exoplanet signals in a light curve"
      ]
    },
    {
      "cell_type": "markdown",
      "metadata": {
        "id": "gOFEJAKe-vjA"
      },
      "source": [
        "## Learning Goals\n",
        "\n",
        "By the end of this tutorial, you will:\n",
        "\n",
        " - Understand the \"Box Least Squares\" (BLS) method for identifying transit signals.\n",
        " - Know how to use the Lightkurve [BoxLeastSquaresPeriodogram](https://docs.lightkurve.org/reference/api/lightkurve.periodogram.BoxLeastSquaresPeriodogram.from_lightcurve.html?highlight=boxleastsquaresperiodogram) to identify a transiting planet.\n",
        " - Be able to estimate the period, epoch, and duration of the transit.\n",
        " - Be able to plot the phase-folded transit light curve.\n",
        " - Be familiar with the interactive Box Least Squares periodogram in Lightkurve."
      ]
    },
    {
      "cell_type": "markdown",
      "metadata": {
        "id": "7NGNkiQB-sKQ"
      },
      "source": [
        "## Introduction\n",
        "\n",
        "The *Kepler* and *TESS* missions are optimized for finding new transiting exoplanets. [Lightkurve](http://docs.lightkurve.org/) provides a suite of tools that help make the process of identifying and characterizing planets convenient and accessible.\n",
        "\n",
        "In this tutorial, we will show you how to conduct your own search for transiting exoplanets in *Kepler* and *TESS* light curves. [Lightkurve](http://docs.lightkurve.org/) uses the [Astropy](https://www.astropy.org/) implementation of the Box Least Squares (BLS) method to identify transit signals. This tutorial demonstrates the basics of how to optimally use Lightkurve's BLS tools."
      ]
    },
    {
      "cell_type": "markdown",
      "metadata": {
        "id": "EAzRgQPpAcBR"
      },
      "source": [
        "## Imports\n",
        "This tutorial requires the [**Lightkurve**](http://docs.lightkurve.org/) package, which uses [**Matplotlib**](https://matplotlib.org/) for plotting."
      ]
    },
    {
      "cell_type": "code",
      "source": [
        "!pip install lightkurve"
      ],
      "metadata": {
        "id": "aPgAZQ2-mXxB"
      },
      "execution_count": null,
      "outputs": []
    },
    {
      "cell_type": "code",
      "execution_count": null,
      "metadata": {
        "id": "azlcSd2lAjhy"
      },
      "outputs": [],
      "source": [
        "import lightkurve as lk\n",
        "%matplotlib inline"
      ]
    },
    {
      "cell_type": "markdown",
      "metadata": {
        "id": "IChTo8Ir3-Ju"
      },
      "source": [
        "---"
      ]
    },
    {
      "cell_type": "markdown",
      "metadata": {
        "id": "r6p8DOLURorT"
      },
      "source": [
        "## 1. Downloading a Light Curve and Removing Long-Term Trends"
      ]
    },
    {
      "cell_type": "markdown",
      "metadata": {
        "id": "QQLSlKKPOxEW"
      },
      "source": [
        "As an example, we will download all available [*K2*](https://archive.stsci.edu/k2) observations for a known multi-planet system, [K2-97](https://iopscience.iop.org/article/10.3847/0004-6256/152/6/185/pdf)."
      ]
    },
    {
      "cell_type": "code",
      "execution_count": null,
      "metadata": {
        "id": "6mO0bXd6Rw5X"
      },
      "outputs": [],
      "source": [
        "# Search for K2 observations of K2-97\n",
        "search_result = lk.search_lightcurve('K2-97', author='K2', cadence='long')\n",
        "# Download all available Kepler light curves\n",
        "lc_collection = search_result.download_all()\n",
        "lc_collection.plot();"
      ]
    },
    {
      "cell_type": "markdown",
      "metadata": {
        "id": "v3CQzkKfPO8e"
      },
      "source": [
        "Each observation has a different offset, so in order to successfully search this light curve for transits, we first need to normalize and flatten the full observation. This can be performed on a stitched light curve. For more information about combining multiple observations of the same target, please see the companion tutorial on combining multiple quarters of *Kepler* data with Lightkurve."
      ]
    },
    {
      "cell_type": "code",
      "execution_count": null,
      "metadata": {
        "id": "V0XVebt-AM-4"
      },
      "outputs": [],
      "source": [
        "search_result"
      ]
    },
    {
      "cell_type": "code",
      "execution_count": null,
      "metadata": {
        "id": "iXDKVb9aBBNx"
      },
      "outputs": [],
      "source": [
        "# Flatten the light curve\n",
        "lc = lc_collection.stitch().flatten(window_length=901).remove_outliers()\n",
        "lc.plot();"
      ]
    },
    {
      "cell_type": "markdown",
      "metadata": {
        "id": "c03Y0DPv-Csl"
      },
      "source": [
        "## 2. The Box Least Squares Method for Finding Transiting Planets"
      ]
    },
    {
      "cell_type": "markdown",
      "metadata": {
        "id": "Bz1vMoZWTQRm"
      },
      "source": [
        "The most common method used to identify transiting exoplanets is the Box Least Squares (BLS) periodogram analysis. BLS works by modeling a transit using an upside-down top hat with four parameters: period, duration, depth, and reference time. These can be seen in the figure below, from the [astropy.timeseries](https://docs.astropy.org/en/stable/timeseries/) implementation of BLS.\n",
        "\n",
        "<img style=\"float: right;\" src=\"https://docs.astropy.org/en/stable/timeseries/bls-1.png\" alt=\"Box Least Squares\" width=\"600px\"/>\n",
        "\n",
        "These parameters are then optimized by minimizing the square difference between the BLS transit model and the observation. For more information about BLS, please see the [Astropy documentation](https://docs.astropy.org/en/stable/timeseries/bls.html).\n",
        "\n",
        "Lightkurve has two types of periodogram available to anaylze periodic trends in light curves:\n",
        "* `LombScarglePeriodogram`\n",
        "* `BoxLeastSquaresPeriodogram`\n",
        "\n",
        "Please see the companion tutorial on how to create periodograms and identify significant peaks for an example of the `LombScarglePeriodogram`."
      ]
    },
    {
      "cell_type": "markdown",
      "metadata": {
        "id": "QWoWOLfELCTX"
      },
      "source": [
        "## 3. Searching for Transiting Planets in a *Kepler* Light Curve Using BLS\n",
        "\n",
        "To create a `BoxLeastSquaresPeriodogram`, use the `LightCurve` method [to_periodogram](https://docs.lightkurve.org/reference/api/lightkurve.LightCurve.to_periodogram.html?highlight=to_periodogram), and pass in the string `'bls'` to specify the type of periodogram object you want to create. This method also optionally takes an array of periods (in days) to search, which we will set from 1–20 days to limit our search to short-period planets. We do so using the [numpy.linspace](https://numpy.org/doc/stable/reference/generated/numpy.linspace.html) function."
      ]
    },
    {
      "cell_type": "code",
      "execution_count": null,
      "metadata": {
        "id": "iLOVr_ZuRP2n"
      },
      "outputs": [],
      "source": [
        "import numpy as np\n",
        "# Create array of periods to search\n",
        "period = np.linspace(1, 20, 10000)\n",
        "# Create a BLSPeriodogram\n",
        "bls = lc.to_periodogram(method='bls', period=period, frequency_factor=500);\n",
        "bls.plot();"
      ]
    },
    {
      "cell_type": "markdown",
      "metadata": {
        "id": "a-8gU6D2A7a6"
      },
      "source": [
        "The plot above shows the power, or the likelihood of the BLS fit, for each of the periods in the array we passed in. This plot shows a handful of high-power peaks at discrete periods, which is a good sign that a transit has been identified. The highest power spike shows the most likely period, while the lower power spikes are fractional harmonics of the period, for example, 1/2, 1/3, 1/4, etc.\n",
        "\n",
        "We can pull out the most likely BLS parameters by taking their values at maximum power — we will refer to this transiting object as \"planet b.\""
      ]
    },
    {
      "cell_type": "code",
      "execution_count": null,
      "metadata": {
        "id": "3c24rWxnR7_M"
      },
      "outputs": [],
      "source": [
        "planet_b_period = bls.period_at_max_power\n",
        "planet_b_t0 = bls.transit_time_at_max_power\n",
        "planet_b_dur = bls.duration_at_max_power\n",
        "\n",
        "# Check the value for period\n",
        "planet_b_period"
      ]
    },
    {
      "cell_type": "markdown",
      "metadata": {
        "id": "4rlYrX_tLjRu"
      },
      "source": [
        "To confirm that this period and transit time (epoch) correspond to a transit signal, we can phase-fold the light curve using these values and plot it."
      ]
    },
    {
      "cell_type": "code",
      "execution_count": null,
      "metadata": {
        "id": "KOM3l2NbSDft"
      },
      "outputs": [],
      "source": [
        "ax = lc.fold(period=planet_b_period, epoch_time=planet_b_t0).scatter()\n",
        "ax.set_xlim(-5, 5);"
      ]
    },
    {
      "cell_type": "markdown",
      "metadata": {
        "id": "QpfdGLSoMDUb"
      },
      "source": [
        "The phase-folded light curve shows a strong transit signal with the identified period and transit time of maximum BLS power."
      ]
    },
    {
      "cell_type": "markdown",
      "metadata": {
        "id": "IhdPdcMOSRYy"
      },
      "source": [
        "## 4. Retrieving a Transit Model and Cadence Mask"
      ]
    },
    {
      "cell_type": "markdown",
      "metadata": {
        "id": "Yj6Oym9HMMvw"
      },
      "source": [
        "The BLS periodogram has features that make it possible to search for multiple planets in the same system. If we want to identify additional transit signals, it will be much more convenient if we first remove the previously identified signal. This will prevent the high-power periodicity of the first planet, planet b, from dominating the BLS periodogram, and will allow us to find lower signal-to-noise ratio (SNR) transits.\n",
        "\n",
        "We can create a cadence mask for the light curve using the transit parameters from the `BoxLeastSquaresPeriodogram`."
      ]
    },
    {
      "cell_type": "code",
      "execution_count": null,
      "metadata": {
        "id": "l03MOLu3Nm1J"
      },
      "outputs": [],
      "source": [
        "# Create a cadence mask using the BLS parameters\n",
        "planet_b_mask = bls.get_transit_mask(period=planet_b_period,\n",
        "                                     transit_time=planet_b_t0,\n",
        "                                     duration=planet_b_dur)"
      ]
    },
    {
      "cell_type": "markdown",
      "metadata": {
        "id": "gh0XVIJ4OBSu"
      },
      "source": [
        "Now, we can create a masked version of the light curve to search for additional transit signals. The light curve is shown below, with masked cadences marked in red."
      ]
    },
    {
      "cell_type": "code",
      "execution_count": null,
      "metadata": {
        "id": "l_vzNQZwOKI0"
      },
      "outputs": [],
      "source": [
        "masked_lc = lc[~planet_b_mask]\n",
        "ax = masked_lc.scatter();\n",
        "lc[planet_b_mask].scatter(ax=ax, c='r', label='Masked');"
      ]
    },
    {
      "cell_type": "markdown",
      "metadata": {
        "id": "S7SJfPWnOqE7"
      },
      "source": [
        "We can also create a BLS model to visualize the transit fit. This returns a `LightCurve` object with the BLS model in the flux column."
      ]
    },
    {
      "cell_type": "code",
      "execution_count": null,
      "metadata": {
        "id": "QptjZH66OwR1"
      },
      "outputs": [],
      "source": [
        "# Create a BLS model using the BLS parameters\n",
        "planet_b_model = bls.get_transit_model(period=planet_b_period,\n",
        "                                       transit_time=planet_b_t0,\n",
        "                                       duration=planet_b_dur)"
      ]
    },
    {
      "cell_type": "markdown",
      "metadata": {
        "id": "qzfYLeCTPKjD"
      },
      "source": [
        "We can plot this over the folded light curve to confirm that it accurately represents the transit."
      ]
    },
    {
      "cell_type": "code",
      "execution_count": null,
      "metadata": {
        "id": "rHqMZmfYSX1E"
      },
      "outputs": [],
      "source": [
        "ax = lc.fold(planet_b_period, planet_b_t0).scatter()\n",
        "planet_b_model.fold(planet_b_period, planet_b_t0).plot(ax=ax, c='r', lw=2)\n",
        "ax.set_xlim(-5, 5);"
      ]
    },
    {
      "cell_type": "markdown",
      "metadata": {
        "id": "goco294YUFjs"
      },
      "source": [
        "## 5. Identifying Additional Transiting Planet Signals in the Same Light Curve"
      ]
    },
    {
      "cell_type": "markdown",
      "metadata": {
        "id": "OQboGya1PZF-"
      },
      "source": [
        "Now that we have created a light curve with the first identified planet masked out, we can search the remaining light curve for additional transit signals. Here, we search for long-period planets by increasing our range of periods to 1–300 days."
      ]
    },
    {
      "cell_type": "code",
      "execution_count": null,
      "metadata": {
        "id": "MSUsDbMJUM-y"
      },
      "outputs": [],
      "source": [
        "period = np.linspace(1, 300, 10000)\n",
        "bls = masked_lc.to_periodogram('bls', period=period, frequency_factor=500)\n",
        "bls.plot();"
      ]
    },
    {
      "cell_type": "markdown",
      "metadata": {
        "id": "4GJ7WfRR31lT"
      },
      "source": [
        "Do you see any additional signficant peaks in this power spectrum?"
      ]
    },
    {
      "cell_type": "code",
      "execution_count": null,
      "metadata": {
        "id": "YVhdUd32P0Sx"
      },
      "outputs": [],
      "source": [
        "planet_c_period = bls.period_at_max_power\n",
        "planet_c_t0 = bls.transit_time_at_max_power\n",
        "planet_c_dur = bls.duration_at_max_power\n",
        "\n",
        "# Check the value for period\n",
        "planet_c_period"
      ]
    },
    {
      "cell_type": "markdown",
      "metadata": {
        "id": "xbk7G1in4NPm"
      },
      "source": [
        "We can again plot the phase-folded light curve to examine the transit."
      ]
    },
    {
      "cell_type": "code",
      "execution_count": null,
      "metadata": {
        "id": "6FKmoM70UOl3"
      },
      "outputs": [],
      "source": [
        "ax = masked_lc.fold(planet_c_period, planet_c_t0).scatter()\n",
        "masked_lc.fold(planet_c_period, planet_c_t0).bin(.1).plot(ax=ax, c='r', lw=2,\n",
        "                                                          label='Binned Flux')\n",
        "ax.set_xlim(-5, 5);"
      ]
    },
    {
      "cell_type": "markdown",
      "metadata": {
        "id": "ebk1C7aa4ctu"
      },
      "source": [
        "Doesn't look like there's much there...but there's definitely some other variability in the lightcurve! Looks like stellar oscillations to me. Maybe we can use the oscillation properties to determine more precise star and planet parameters."
      ]
    },
    {
      "cell_type": "markdown",
      "metadata": {
        "id": "aG4fgysD_Brp"
      },
      "source": [
        "## About this Notebook\n",
        "\n",
        "**Authors:** Nicholas Saunders (nksaun@hawaii.edu), Sam Grunblatt (sgrunblatt@ua.edu)\n",
        "\n",
        "**Updated On:** 2024-10-28"
      ]
    },
    {
      "cell_type": "markdown",
      "metadata": {
        "id": "MptPsdBQ_Qju"
      },
      "source": [
        "## Citing Lightkurve and Astropy\n",
        "\n",
        "If you use `lightkurve` or its dependencies in your published research, please cite the authors. Click the buttons below to copy BibTeX entries to your clipboard."
      ]
    },
    {
      "cell_type": "code",
      "execution_count": null,
      "metadata": {
        "id": "1khvwNHx_QDz"
      },
      "outputs": [],
      "source": [
        "lk.show_citation_instructions()"
      ]
    },
    {
      "cell_type": "markdown",
      "metadata": {
        "id": "ZhdRVU3B_Zn2"
      },
      "source": [
        "<img style=\"float: right;\" src=\"https://raw.githubusercontent.com/spacetelescope/notebooks/master/assets/stsci_pri_combo_mark_horizonal_white_bkgd.png\" alt=\"Space Telescope Logo\" width=\"200px\"/>\n"
      ]
    }
  ],
  "metadata": {
    "colab": {
      "name": "Identifying a transiting planet signal in Kepler or TESS light curves",
      "provenance": []
    },
    "kernelspec": {
      "display_name": "Python 3",
      "language": "python",
      "name": "python3"
    },
    "language_info": {
      "codemirror_mode": {
        "name": "ipython",
        "version": 3
      },
      "file_extension": ".py",
      "mimetype": "text/x-python",
      "name": "python",
      "nbconvert_exporter": "python",
      "pygments_lexer": "ipython3",
      "version": "3.6.10"
    }
  },
  "nbformat": 4,
  "nbformat_minor": 0
}